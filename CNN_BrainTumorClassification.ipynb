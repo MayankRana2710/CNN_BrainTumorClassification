{
 "cells": [
  {
   "cell_type": "markdown",
   "id": "0b7c8da6-d384-46ce-ac4a-655e97b6fac1",
   "metadata": {},
   "source": [
    "# Importing the libraries"
   ]
  },
  {
   "cell_type": "code",
   "execution_count": 3,
   "id": "203e765c-a97c-44d5-89a3-c965c43ba52e",
   "metadata": {},
   "outputs": [
    {
     "ename": "ModuleNotFoundError",
     "evalue": "No module named 'pandas'",
     "output_type": "error",
     "traceback": [
      "\u001b[31m---------------------------------------------------------------------------\u001b[39m",
      "\u001b[31mModuleNotFoundError\u001b[39m                       Traceback (most recent call last)",
      "\u001b[36mCell\u001b[39m\u001b[36m \u001b[39m\u001b[32mIn[3]\u001b[39m\u001b[32m, line 6\u001b[39m\n\u001b[32m      4\u001b[39m \u001b[38;5;28;01mfrom\u001b[39;00m\u001b[38;5;250m \u001b[39m\u001b[34;01mkeras\u001b[39;00m\u001b[34;01m.\u001b[39;00m\u001b[34;01mmodels\u001b[39;00m\u001b[38;5;250m \u001b[39m\u001b[38;5;28;01mimport\u001b[39;00m Sequential\n\u001b[32m      5\u001b[39m \u001b[38;5;28;01mimport\u001b[39;00m\u001b[38;5;250m \u001b[39m\u001b[34;01mnumpy\u001b[39;00m\u001b[38;5;250m \u001b[39m\u001b[38;5;28;01mas\u001b[39;00m\u001b[38;5;250m \u001b[39m\u001b[34;01mnp\u001b[39;00m\n\u001b[32m----> \u001b[39m\u001b[32m6\u001b[39m \u001b[38;5;28;01mimport\u001b[39;00m\u001b[38;5;250m \u001b[39m\u001b[34;01mpandas\u001b[39;00m\u001b[38;5;250m \u001b[39m\u001b[38;5;28;01mas\u001b[39;00m\u001b[38;5;250m \u001b[39m\u001b[34;01mpd\u001b[39;00m\n\u001b[32m      7\u001b[39m \u001b[38;5;28;01mimport\u001b[39;00m\u001b[38;5;250m \u001b[39m\u001b[34;01mmatplotlib\u001b[39;00m\u001b[34;01m.\u001b[39;00m\u001b[34;01mpyplot\u001b[39;00m\u001b[38;5;250m \u001b[39m\u001b[38;5;28;01mas\u001b[39;00m\u001b[38;5;250m \u001b[39m\u001b[34;01mplt\u001b[39;00m\n\u001b[32m      8\u001b[39m \u001b[38;5;28;01mfrom\u001b[39;00m\u001b[38;5;250m \u001b[39m\u001b[34;01mPIL\u001b[39;00m\u001b[38;5;250m \u001b[39m\u001b[38;5;28;01mimport\u001b[39;00m Image\n",
      "\u001b[31mModuleNotFoundError\u001b[39m: No module named 'pandas'"
     ]
    }
   ],
   "source": [
    "import os\n",
    "import tensorflow as tf\n",
    "from keras.layers import Conv2D,MaxPooling2D,Dense,Dropout,Flatten\n",
    "from keras.models import Sequential\n",
    "import numpy as np\n",
    "import pandas as pd\n",
    "import matplotlib.pyplot as plt\n",
    "from PIL import Image\n",
    "from sklearn.model_selection import train_test_split"
   ]
  },
  {
   "cell_type": "markdown",
   "id": "e9872de7-303d-4e25-a276-731edb5d77e2",
   "metadata": {},
   "source": [
    "## Extracting the **training data** from the dataset"
   ]
  },
  {
   "cell_type": "code",
   "execution_count": 12,
   "id": "71588355-a49e-4fb1-9a9d-3f43a3ef8b73",
   "metadata": {},
   "outputs": [],
   "source": [
    "training_path = r\"C:\\Users\\Mayank Rana\\OneDrive\\Documents\\Jupyter_Notebook\\archive\\Training\"\n",
    "\n",
    "train_paths=[]\n",
    "train_result=[]\n",
    "train_data=[]\n",
    "\n",
    "for r,d,f in os.walk(training_path):\n",
    "    for file in f:\n",
    "        if file.endswith('.jpg'):\n",
    "            train_paths.append(os.path.join(r,file))\n",
    "\n",
    "for path in train_paths:\n",
    "    img=Image.open(path)\n",
    "    if img.mode != 'RGB':\n",
    "        img = img.convert('RGB')\n",
    "    img=img.resize((128,128))\n",
    "    img=np.array(img)/255\n",
    "    train_data.append(img)\n",
    "    if('glioma' in path):\n",
    "        train_result.append(0)\n",
    "    elif('meningioma' in path):\n",
    "        train_result.append(1)\n",
    "    elif('notumor' in path):\n",
    "        train_result.append(2)\n",
    "    else:\n",
    "        train_result.append(3)"
   ]
  },
  {
   "cell_type": "markdown",
   "id": "eda8d9e9-73ee-408b-a1a5-6a6d8aa173ca",
   "metadata": {},
   "source": [
    "## Extracting the **testing data** from the dataset"
   ]
  },
  {
   "cell_type": "code",
   "execution_count": 13,
   "id": "9da167ea-2ec4-42c1-a614-f140d8474a93",
   "metadata": {},
   "outputs": [],
   "source": [
    "testing_path = r\"C:\\Users\\Mayank Rana\\OneDrive\\Documents\\Jupyter_Notebook\\archive\\Testing\"\n",
    "\n",
    "test_paths=[]\n",
    "test_result=[]\n",
    "test_data=[]\n",
    "\n",
    "for r,d,f in os.walk(testing_path):\n",
    "    for file in f:\n",
    "        if file.endswith('.jpg'):\n",
    "            test_paths.append(os.path.join(r,file))\n",
    "\n",
    "for path in test_paths:\n",
    "    img=Image.open(path)\n",
    "    if img.mode != 'RGB':\n",
    "        img = img.convert('RGB')\n",
    "    img=img.resize((128,128))\n",
    "    img=np.array(img)/255\n",
    "    test_data.append(img)\n",
    "    if('glioma' in path):\n",
    "        test_result.append(0)\n",
    "    elif('meningioma' in path):\n",
    "        test_result.append(1)\n",
    "    elif('notumor' in path):\n",
    "        test_result.append(2)\n",
    "    else:\n",
    "        test_result.append(3)"
   ]
  },
  {
   "cell_type": "code",
   "execution_count": 14,
   "id": "f5e61721-7ed4-4163-a77d-92d9bffa58a6",
   "metadata": {},
   "outputs": [],
   "source": [
    "X_train_full=np.array(train_data)\n",
    "Y_train_full=np.array(train_result)\n",
    "\n",
    "X_test=np.array(test_data)\n",
    "Y_test=np.array(test_result)\n",
    "\n",
    "X_train,X_valid,Y_train,Y_valid=train_test_split(X_train_full,Y_train_full,test_size=0.2,random_state=0)"
   ]
  },
  {
   "cell_type": "markdown",
   "id": "af2dc595-ea06-4262-b08e-0f131dc3e8af",
   "metadata": {},
   "source": [
    "## Building the model Architecture"
   ]
  },
  {
   "cell_type": "code",
   "execution_count": 2,
   "id": "170913d7-0acc-4baf-92db-9441fb4a464e",
   "metadata": {},
   "outputs": [
    {
     "ename": "NameError",
     "evalue": "name 'Sequential' is not defined",
     "output_type": "error",
     "traceback": [
      "\u001b[31m---------------------------------------------------------------------------\u001b[39m",
      "\u001b[31mNameError\u001b[39m                                 Traceback (most recent call last)",
      "\u001b[36mCell\u001b[39m\u001b[36m \u001b[39m\u001b[32mIn[2]\u001b[39m\u001b[32m, line 1\u001b[39m\n\u001b[32m----> \u001b[39m\u001b[32m1\u001b[39m model=\u001b[43mSequential\u001b[49m()\n\u001b[32m      3\u001b[39m model.add(Conv2D(\u001b[32m32\u001b[39m,(\u001b[32m2\u001b[39m,\u001b[32m2\u001b[39m),input_shape=(\u001b[32m128\u001b[39m,\u001b[32m128\u001b[39m,\u001b[32m3\u001b[39m),activation=\u001b[33m'\u001b[39m\u001b[33mrelu\u001b[39m\u001b[33m'\u001b[39m,padding=\u001b[33m'\u001b[39m\u001b[33msame\u001b[39m\u001b[33m'\u001b[39m))\n\u001b[32m      4\u001b[39m model.add(MaxPooling2D(pool_size=(\u001b[32m2\u001b[39m,\u001b[32m2\u001b[39m)))\n",
      "\u001b[31mNameError\u001b[39m: name 'Sequential' is not defined"
     ]
    }
   ],
   "source": [
    "model=Sequential()\n",
    "\n",
    "model.add(Conv2D(32,(2,2),input_shape=(128,128,3),activation='relu',padding='same'))\n",
    "model.add(MaxPooling2D(pool_size=(2,2)))\n",
    "model.add(Dropout(0.25))\n",
    "\n",
    "model.add(Conv2D(64,(2,2),activation='relu',padding='same'))\n",
    "model.add(MaxPooling2D(pool_size=(2,2)))\n",
    "model.add(Dropout(0.25))\n",
    "\n",
    "model.add(Conv2D(128,(2,2),activation='relu',padding='same'))\n",
    "model.add(MaxPooling2D(pool_size=(2,2)))\n",
    "model.add(Dropout(0.25))\n",
    "\n",
    "model.add(Flatten())\n",
    "\n",
    "model.add(Dense(128,activation='relu'))\n",
    "model.add(Dropout(0.5))\n",
    "model.add(Dense(4,activation='softmax'))\n",
    "\n",
    "print(model.summary())"
   ]
  },
  {
   "cell_type": "markdown",
   "id": "d18c1b46-0b0e-44a6-8b1a-767869282f7c",
   "metadata": {},
   "source": [
    "## Training the data"
   ]
  },
  {
   "cell_type": "code",
   "execution_count": 19,
   "id": "34787fe2-61f4-4077-ac55-a33241943c61",
   "metadata": {},
   "outputs": [
    {
     "name": "stdout",
     "output_type": "stream",
     "text": [
      "Epoch 1/20\n",
      "\u001b[1m143/143\u001b[0m \u001b[32m━━━━━━━━━━━━━━━━━━━━\u001b[0m\u001b[37m\u001b[0m \u001b[1m22s\u001b[0m 138ms/step - accuracy: 0.5861 - loss: 1.0036 - val_accuracy: 0.6597 - val_loss: 0.8908\n",
      "Epoch 2/20\n",
      "\u001b[1m143/143\u001b[0m \u001b[32m━━━━━━━━━━━━━━━━━━━━\u001b[0m\u001b[37m\u001b[0m \u001b[1m19s\u001b[0m 133ms/step - accuracy: 0.7643 - loss: 0.6260 - val_accuracy: 0.6693 - val_loss: 0.7360\n",
      "Epoch 3/20\n",
      "\u001b[1m143/143\u001b[0m \u001b[32m━━━━━━━━━━━━━━━━━━━━\u001b[0m\u001b[37m\u001b[0m \u001b[1m22s\u001b[0m 152ms/step - accuracy: 0.8024 - loss: 0.5231 - val_accuracy: 0.7437 - val_loss: 0.5990\n",
      "Epoch 4/20\n",
      "\u001b[1m143/143\u001b[0m \u001b[32m━━━━━━━━━━━━━━━━━━━━\u001b[0m\u001b[37m\u001b[0m \u001b[1m20s\u001b[0m 142ms/step - accuracy: 0.8258 - loss: 0.4633 - val_accuracy: 0.7305 - val_loss: 0.5990\n",
      "Epoch 5/20\n",
      "\u001b[1m143/143\u001b[0m \u001b[32m━━━━━━━━━━━━━━━━━━━━\u001b[0m\u001b[37m\u001b[0m \u001b[1m21s\u001b[0m 145ms/step - accuracy: 0.8464 - loss: 0.4182 - val_accuracy: 0.7743 - val_loss: 0.4997\n",
      "Epoch 6/20\n",
      "\u001b[1m143/143\u001b[0m \u001b[32m━━━━━━━━━━━━━━━━━━━━\u001b[0m\u001b[37m\u001b[0m \u001b[1m20s\u001b[0m 142ms/step - accuracy: 0.8610 - loss: 0.3779 - val_accuracy: 0.8285 - val_loss: 0.4192\n",
      "Epoch 7/20\n",
      "\u001b[1m143/143\u001b[0m \u001b[32m━━━━━━━━━━━━━━━━━━━━\u001b[0m\u001b[37m\u001b[0m \u001b[1m20s\u001b[0m 141ms/step - accuracy: 0.8700 - loss: 0.3571 - val_accuracy: 0.8390 - val_loss: 0.4043\n",
      "Epoch 8/20\n",
      "\u001b[1m143/143\u001b[0m \u001b[32m━━━━━━━━━━━━━━━━━━━━\u001b[0m\u001b[37m\u001b[0m \u001b[1m20s\u001b[0m 140ms/step - accuracy: 0.8779 - loss: 0.3224 - val_accuracy: 0.8285 - val_loss: 0.4153\n",
      "Epoch 9/20\n",
      "\u001b[1m143/143\u001b[0m \u001b[32m━━━━━━━━━━━━━━━━━━━━\u001b[0m\u001b[37m\u001b[0m \u001b[1m20s\u001b[0m 143ms/step - accuracy: 0.8888 - loss: 0.2992 - val_accuracy: 0.8661 - val_loss: 0.3477\n",
      "Epoch 10/20\n",
      "\u001b[1m143/143\u001b[0m \u001b[32m━━━━━━━━━━━━━━━━━━━━\u001b[0m\u001b[37m\u001b[0m \u001b[1m20s\u001b[0m 137ms/step - accuracy: 0.8980 - loss: 0.2730 - val_accuracy: 0.8644 - val_loss: 0.3337\n",
      "Epoch 11/20\n",
      "\u001b[1m143/143\u001b[0m \u001b[32m━━━━━━━━━━━━━━━━━━━━\u001b[0m\u001b[37m\u001b[0m \u001b[1m19s\u001b[0m 133ms/step - accuracy: 0.9061 - loss: 0.2534 - val_accuracy: 0.8828 - val_loss: 0.3280\n",
      "Epoch 12/20\n",
      "\u001b[1m143/143\u001b[0m \u001b[32m━━━━━━━━━━━━━━━━━━━━\u001b[0m\u001b[37m\u001b[0m \u001b[1m20s\u001b[0m 138ms/step - accuracy: 0.9140 - loss: 0.2360 - val_accuracy: 0.8924 - val_loss: 0.3133\n",
      "Epoch 13/20\n",
      "\u001b[1m143/143\u001b[0m \u001b[32m━━━━━━━━━━━━━━━━━━━━\u001b[0m\u001b[37m\u001b[0m \u001b[1m19s\u001b[0m 135ms/step - accuracy: 0.9219 - loss: 0.2063 - val_accuracy: 0.8889 - val_loss: 0.3063\n",
      "Epoch 14/20\n",
      "\u001b[1m143/143\u001b[0m \u001b[32m━━━━━━━━━━━━━━━━━━━━\u001b[0m\u001b[37m\u001b[0m \u001b[1m19s\u001b[0m 133ms/step - accuracy: 0.9251 - loss: 0.2025 - val_accuracy: 0.8985 - val_loss: 0.2821\n",
      "Epoch 15/20\n",
      "\u001b[1m143/143\u001b[0m \u001b[32m━━━━━━━━━━━━━━━━━━━━\u001b[0m\u001b[37m\u001b[0m \u001b[1m20s\u001b[0m 137ms/step - accuracy: 0.9387 - loss: 0.1779 - val_accuracy: 0.9011 - val_loss: 0.2856\n",
      "Epoch 16/20\n",
      "\u001b[1m143/143\u001b[0m \u001b[32m━━━━━━━━━━━━━━━━━━━━\u001b[0m\u001b[37m\u001b[0m \u001b[1m20s\u001b[0m 137ms/step - accuracy: 0.9339 - loss: 0.1730 - val_accuracy: 0.9073 - val_loss: 0.2633\n",
      "Epoch 17/20\n",
      "\u001b[1m143/143\u001b[0m \u001b[32m━━━━━━━━━━━━━━━━━━━━\u001b[0m\u001b[37m\u001b[0m \u001b[1m19s\u001b[0m 133ms/step - accuracy: 0.9394 - loss: 0.1625 - val_accuracy: 0.9020 - val_loss: 0.2915\n",
      "Epoch 18/20\n",
      "\u001b[1m143/143\u001b[0m \u001b[32m━━━━━━━━━━━━━━━━━━━━\u001b[0m\u001b[37m\u001b[0m \u001b[1m20s\u001b[0m 136ms/step - accuracy: 0.9468 - loss: 0.1441 - val_accuracy: 0.9099 - val_loss: 0.2673\n",
      "Epoch 19/20\n",
      "\u001b[1m143/143\u001b[0m \u001b[32m━━━━━━━━━━━━━━━━━━━━\u001b[0m\u001b[37m\u001b[0m \u001b[1m19s\u001b[0m 134ms/step - accuracy: 0.9508 - loss: 0.1363 - val_accuracy: 0.9151 - val_loss: 0.2607\n",
      "Epoch 20/20\n",
      "\u001b[1m143/143\u001b[0m \u001b[32m━━━━━━━━━━━━━━━━━━━━\u001b[0m\u001b[37m\u001b[0m \u001b[1m19s\u001b[0m 133ms/step - accuracy: 0.9571 - loss: 0.1244 - val_accuracy: 0.9160 - val_loss: 0.2719\n"
     ]
    },
    {
     "data": {
      "text/plain": [
       "<keras.src.callbacks.history.History at 0x1b3854c6d50>"
      ]
     },
     "execution_count": 19,
     "metadata": {},
     "output_type": "execute_result"
    }
   ],
   "source": [
    "model.compile(loss='sparse_categorical_crossentropy',\n",
    "              optimizer='adamax',\n",
    "              metrics=['accuracy'])\n",
    "model.fit(X_train,Y_train,validation_data=(X_valid,Y_valid),epochs=20)"
   ]
  },
  {
   "cell_type": "markdown",
   "id": "5aac0fc5-d0e0-4595-a4d7-bd500c4ebd90",
   "metadata": {},
   "source": [
    "## Evaluating the efficiency of the model"
   ]
  },
  {
   "cell_type": "code",
   "execution_count": 20,
   "id": "159840a8-6942-4760-80bc-2a9e102af05b",
   "metadata": {},
   "outputs": [
    {
     "name": "stdout",
     "output_type": "stream",
     "text": [
      "\u001b[1m41/41\u001b[0m \u001b[32m━━━━━━━━━━━━━━━━━━━━\u001b[0m\u001b[37m\u001b[0m \u001b[1m2s\u001b[0m 52ms/step - accuracy: 0.9245 - loss: 0.2297\n"
     ]
    },
    {
     "data": {
      "text/plain": [
       "[0.229694664478302, 0.9244851469993591]"
      ]
     },
     "execution_count": 20,
     "metadata": {},
     "output_type": "execute_result"
    }
   ],
   "source": [
    "model.evaluate(X_test,Y_test)"
   ]
  },
  {
   "cell_type": "markdown",
   "id": "4cf26107-55bb-4fe2-84bd-b2fb56d00ba4",
   "metadata": {},
   "source": [
    "## Model predictions : Actual vs Predicted Labels"
   ]
  },
  {
   "cell_type": "code",
   "execution_count": 25,
   "id": "3d839e78-7db9-459b-8433-6d7f21956c31",
   "metadata": {},
   "outputs": [
    {
     "name": "stdout",
     "output_type": "stream",
     "text": [
      "\u001b[1m41/41\u001b[0m \u001b[32m━━━━━━━━━━━━━━━━━━━━\u001b[0m\u001b[37m\u001b[0m \u001b[1m1s\u001b[0m 27ms/step\n",
      "Actual: glioma, prediction: glioma\n",
      "Actual: glioma, prediction: glioma\n",
      "Actual: glioma, prediction: glioma\n",
      "Actual: glioma, prediction: meningioma\n",
      "Actual: glioma, prediction: glioma\n",
      "Actual: glioma, prediction: meningioma\n",
      "Actual: glioma, prediction: glioma\n",
      "Actual: glioma, prediction: glioma\n",
      "Actual: glioma, prediction: glioma\n",
      "Actual: glioma, prediction: glioma\n",
      "Actual: glioma, prediction: glioma\n",
      "Actual: glioma, prediction: glioma\n",
      "Actual: glioma, prediction: glioma\n",
      "Actual: glioma, prediction: glioma\n",
      "Actual: glioma, prediction: glioma\n",
      "Actual: glioma, prediction: glioma\n",
      "Actual: glioma, prediction: glioma\n",
      "Actual: glioma, prediction: glioma\n",
      "Actual: glioma, prediction: glioma\n",
      "Actual: glioma, prediction: meningioma\n",
      "Actual: glioma, prediction: glioma\n",
      "Actual: glioma, prediction: glioma\n",
      "Actual: glioma, prediction: glioma\n",
      "Actual: glioma, prediction: glioma\n",
      "Actual: glioma, prediction: glioma\n",
      "Actual: glioma, prediction: glioma\n",
      "Actual: glioma, prediction: glioma\n",
      "Actual: glioma, prediction: glioma\n",
      "Actual: glioma, prediction: glioma\n",
      "Actual: glioma, prediction: glioma\n",
      "Actual: glioma, prediction: meningioma\n",
      "Actual: glioma, prediction: glioma\n",
      "Actual: glioma, prediction: glioma\n",
      "Actual: glioma, prediction: glioma\n",
      "Actual: glioma, prediction: glioma\n",
      "Actual: glioma, prediction: glioma\n",
      "Actual: glioma, prediction: meningioma\n",
      "Actual: glioma, prediction: glioma\n",
      "Actual: glioma, prediction: glioma\n",
      "Actual: glioma, prediction: glioma\n"
     ]
    }
   ],
   "source": [
    "predictions=model.predict(X_test)\n",
    "final_pred=np.argmax(predictions,axis=1)\n",
    "label=['glioma','meningioma','notumor','p']\n",
    "for i in range(40):\n",
    "    real=Y_test[i]\n",
    "    print(f\"Actual: {label[real]}, prediction: {label[final_pred[i]]}\")"
   ]
  },
  {
   "cell_type": "markdown",
   "id": "e2f6163e-83bf-4098-bb4b-478ac23a1926",
   "metadata": {},
   "source": [
    "## Saving the model"
   ]
  },
  {
   "cell_type": "code",
   "execution_count": 1,
   "id": "13fb5c12-7944-461c-b3eb-1320859f0fae",
   "metadata": {},
   "outputs": [
    {
     "ename": "NameError",
     "evalue": "name 'model' is not defined",
     "output_type": "error",
     "traceback": [
      "\u001b[31m---------------------------------------------------------------------------\u001b[39m",
      "\u001b[31mNameError\u001b[39m                                 Traceback (most recent call last)",
      "\u001b[36mCell\u001b[39m\u001b[36m \u001b[39m\u001b[32mIn[1]\u001b[39m\u001b[32m, line 1\u001b[39m\n\u001b[32m----> \u001b[39m\u001b[32m1\u001b[39m \u001b[43mmodel\u001b[49m.save_weights(\u001b[33m'\u001b[39m\u001b[33mbrainTumorCNN_model.keras\u001b[39m\u001b[33m'\u001b[39m)\n",
      "\u001b[31mNameError\u001b[39m: name 'model' is not defined"
     ]
    }
   ],
   "source": [
    "model.save_weights('brainTumorCNN_model.keras')"
   ]
  }
 ],
 "metadata": {
  "kernelspec": {
   "display_name": "Python 3 (ipykernel)",
   "language": "python",
   "name": "python3"
  },
  "language_info": {
   "codemirror_mode": {
    "name": "ipython",
    "version": 3
   },
   "file_extension": ".py",
   "mimetype": "text/x-python",
   "name": "python",
   "nbconvert_exporter": "python",
   "pygments_lexer": "ipython3",
   "version": "3.11.9"
  }
 },
 "nbformat": 4,
 "nbformat_minor": 5
}
